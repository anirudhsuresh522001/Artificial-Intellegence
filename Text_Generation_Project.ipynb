{
 "cells": [
  {
   "cell_type": "code",
   "execution_count": 2,
   "metadata": {},
   "outputs": [
    {
     "name": "stdout",
     "output_type": "stream",
     "text": [
      "[nltk_data] Downloading package stopwords to /root/nltk_data...\n",
      "[nltk_data]   Package stopwords is already up-to-date!\n"
     ]
    }
   ],
   "source": [
    "import numpy\n",
    "import sys\n",
    "import nltk\n",
    "nltk.download(\"stopwords\")\n",
    "from nltk.tokenize import RegexpTokenizer\n",
    "from nltk.corpus import stopwords\n",
    "from keras.models import Sequential\n",
    "from keras.layers import Dense,Dropout,LSTM\n",
    "from keras.utils import np_utils\n",
    "from keras.callbacks import ModelCheckpoint\n"
   ]
  },
  {
   "cell_type": "code",
   "execution_count": 3,
   "metadata": {},
   "outputs": [],
   "source": [
    "file=open(\"84-0.txt\").read()"
   ]
  },
  {
   "cell_type": "code",
   "execution_count": 4,
   "metadata": {},
   "outputs": [],
   "source": [
    "def tokenize_words(input):\n",
    "  input= input.lower()\n",
    "  tokenizer=RegexpTokenizer(r\"\\w+\")\n",
    "  tokens=tokenizer.tokenize(input)\n",
    "  filtered=filter(lambda token:token not in stopwords.words(\"english\"),tokens)\n",
    "  return \"\".join(filtered)\n",
    "processed_inputs=tokenize_words(file)  "
   ]
  },
  {
   "cell_type": "code",
   "execution_count": 5,
   "metadata": {},
   "outputs": [],
   "source": [
    "chars = sorted(list(set(processed_inputs)))\n",
    "char_to_num = dict((c, i) for i, c in enumerate(chars))"
   ]
  },
  {
   "cell_type": "code",
   "execution_count": 6,
   "metadata": {},
   "outputs": [
    {
     "name": "stdout",
     "output_type": "stream",
     "text": [
      "Total number of characters: 233296\n",
      "Total vocab: 42\n"
     ]
    }
   ],
   "source": [
    "input_len = len(processed_inputs)\n",
    "vocab_len = len(chars)\n",
    "print (\"Total number of characters:\", input_len)\n",
    "print (\"Total vocab:\", vocab_len)"
   ]
  },
  {
   "cell_type": "code",
   "execution_count": 7,
   "metadata": {},
   "outputs": [],
   "source": [
    "seq_length = 100\n",
    "x_data = []\n",
    "y_data = []"
   ]
  },
  {
   "cell_type": "code",
   "execution_count": 8,
   "metadata": {},
   "outputs": [],
   "source": [
    "for i in range(0, input_len - seq_length, 1):\n",
    "   \n",
    "    in_seq = processed_inputs[i:i + seq_length]\n",
    "    out_seq = processed_inputs[i + seq_length]\n",
    "    x_data.append([char_to_num[char] for char in in_seq])\n",
    "    y_data.append(char_to_num[out_seq])"
   ]
  },
  {
   "cell_type": "code",
   "execution_count": 9,
   "metadata": {},
   "outputs": [
    {
     "name": "stdout",
     "output_type": "stream",
     "text": [
      "Total Patterns: 233196\n"
     ]
    }
   ],
   "source": [
    "n_patterns = len(x_data)\n",
    "print (\"Total Patterns:\", n_patterns)"
   ]
  },
  {
   "cell_type": "code",
   "execution_count": 10,
   "metadata": {},
   "outputs": [],
   "source": [
    "X = numpy.reshape(x_data, (n_patterns, seq_length, 1))\n",
    "X = X/float(vocab_len)"
   ]
  },
  {
   "cell_type": "code",
   "execution_count": 11,
   "metadata": {},
   "outputs": [],
   "source": [
    "y = np_utils.to_categorical(y_data)"
   ]
  },
  {
   "cell_type": "code",
   "execution_count": 12,
   "metadata": {},
   "outputs": [],
   "source": [
    "model = Sequential()\n",
    "model.add(LSTM(256, input_shape=(X.shape[1], X.shape[2]), return_sequences=True))\n",
    "model.add(Dropout(0.2))\n",
    "model.add(LSTM(256, return_sequences=True))\n",
    "model.add(Dropout(0.2))\n",
    "model.add(LSTM(128))\n",
    "model.add(Dropout(0.2))\n",
    "model.add(Dense(y.shape[1], activation='softmax'))"
   ]
  },
  {
   "cell_type": "code",
   "execution_count": 13,
   "metadata": {},
   "outputs": [],
   "source": [
    "model.compile(loss='categorical_crossentropy', optimizer='adam')"
   ]
  },
  {
   "cell_type": "code",
   "execution_count": 14,
   "metadata": {},
   "outputs": [],
   "source": [
    "filepath = \"model_weights_saved.hdf5\"\n",
    "checkpoint = ModelCheckpoint(filepath, monitor='loss', verbose=1, save_best_only=True, mode='min')\n",
    "desired_callbacks = [checkpoint]"
   ]
  },
  {
   "cell_type": "code",
   "execution_count": 16,
   "metadata": {},
   "outputs": [
    {
     "name": "stdout",
     "output_type": "stream",
     "text": [
      "Epoch 1/10\n",
      "233196/233196 [==============================] - 570s 2ms/step - loss: 2.9232\n",
      "\n",
      "Epoch 00001: loss improved from inf to 2.92316, saving model to model_weights_saved.hdf5\n",
      "Epoch 2/10\n",
      "233196/233196 [==============================] - 560s 2ms/step - loss: 2.9091\n",
      "\n",
      "Epoch 00002: loss improved from 2.92316 to 2.90912, saving model to model_weights_saved.hdf5\n",
      "Epoch 3/10\n",
      "233196/233196 [==============================] - 560s 2ms/step - loss: 2.8775\n",
      "\n",
      "Epoch 00003: loss improved from 2.90912 to 2.87750, saving model to model_weights_saved.hdf5\n",
      "Epoch 4/10\n",
      "233196/233196 [==============================] - 560s 2ms/step - loss: 2.8455\n",
      "\n",
      "Epoch 00004: loss improved from 2.87750 to 2.84554, saving model to model_weights_saved.hdf5\n",
      "Epoch 5/10\n",
      "233196/233196 [==============================] - 560s 2ms/step - loss: 2.8042\n",
      "\n",
      "Epoch 00005: loss improved from 2.84554 to 2.80417, saving model to model_weights_saved.hdf5\n",
      "Epoch 6/10\n",
      "233196/233196 [==============================] - 560s 2ms/step - loss: 2.7451\n",
      "\n",
      "Epoch 00006: loss improved from 2.80417 to 2.74512, saving model to model_weights_saved.hdf5\n",
      "Epoch 7/10\n",
      "233196/233196 [==============================] - 560s 2ms/step - loss: 2.6840\n",
      "\n",
      "Epoch 00007: loss improved from 2.74512 to 2.68405, saving model to model_weights_saved.hdf5\n",
      "Epoch 8/10\n",
      "233196/233196 [==============================] - 558s 2ms/step - loss: 2.6267\n",
      "\n",
      "Epoch 00008: loss improved from 2.68405 to 2.62667, saving model to model_weights_saved.hdf5\n",
      "Epoch 9/10\n",
      "233196/233196 [==============================] - 562s 2ms/step - loss: 2.5735\n",
      "\n",
      "Epoch 00009: loss improved from 2.62667 to 2.57346, saving model to model_weights_saved.hdf5\n",
      "Epoch 10/10\n",
      "233196/233196 [==============================] - 562s 2ms/step - loss: 2.5273\n",
      "\n",
      "Epoch 00010: loss improved from 2.57346 to 2.52728, saving model to model_weights_saved.hdf5\n"
     ]
    },
    {
     "data": {
      "text/plain": [
       "<keras.callbacks.History at 0x7ff2f8026ac8>"
      ]
     },
     "execution_count": 16,
     "metadata": {},
     "output_type": "execute_result"
    }
   ],
   "source": [
    "model.fit(X, y, epochs=10, batch_size=256, callbacks=desired_callbacks)"
   ]
  },
  {
   "cell_type": "code",
   "execution_count": 17,
   "metadata": {},
   "outputs": [],
   "source": [
    "filename = \"model_weights_saved.hdf5\"\n",
    "model.load_weights(filename)\n",
    "model.compile(loss='categorical_crossentropy', optimizer='adam')"
   ]
  },
  {
   "cell_type": "code",
   "execution_count": 18,
   "metadata": {},
   "outputs": [],
   "source": [
    "num_to_char = dict((i, c) for i, c in enumerate(chars))"
   ]
  },
  {
   "cell_type": "code",
   "execution_count": 19,
   "metadata": {},
   "outputs": [
    {
     "name": "stdout",
     "output_type": "stream",
     "text": [
      "Random Seed:\n",
      "\" hergirlconsentedmatchsawmistressdestinedceremonybathedtearsthrowingfeetentreatedspareconfessingtimel \"\n"
     ]
    }
   ],
   "source": [
    "start = numpy.random.randint(0, len(x_data) - 1)\n",
    "pattern = x_data[start]\n",
    "print(\"Random Seed:\")\n",
    "print(\"\\\"\", ''.join([num_to_char[value] for value in pattern]), \"\\\"\")"
   ]
  },
  {
   "cell_type": "code",
   "execution_count": 20,
   "metadata": {},
   "outputs": [
    {
     "name": "stdout",
     "output_type": "stream",
     "text": [
      "ingsareseatedsereatedsereatedsereatedsereatedsereatedsereatedsereatedsereatedsereatedsereatedsereatedsereatedsereatedsereatedsereatedsereatedsereatedsereatedsereatedsereatedsereatedsereatedsereatedsereatedsereatedsereatedsereatedsereatedsereatedsereatedsereatedsereatedsereatedsereatedsereatedsereatedsereatedsereatedsereatedsereatedsereatedsereatedsereatedsereatedsereatedsereatedsereatedsereatedsereatedsereatedsereatedsereatedsereatedsereatedsereatedsereatedsereatedsereatedsereatedsereatedsereatedsereatedsereatedsereatedsereatedsereatedsereatedsereatedsereatedsereatedsereatedsereatedsereatedsereatedsereatedsereatedsereatedsereatedsereatedsereatedsereatedsereatedsereatedsereatedsereatedsereatedsereatedsereatedsereatedsereatedsereatedsereatedsereatedsereatedsereatedsereatedsereatedsereatedsereatedsereatedsereatedsereatedsereatedsereatedsereatedsereatedsereatedsereatedsereatedsereatedsereatedsereatedsereatedsereatedsereatedsereatedsereatedsereatedsereatedsereatedsereatedsereatedsereatedser"
     ]
    }
   ],
   "source": [
    "for i in range(1000):\n",
    "    x = numpy.reshape(pattern, (1, len(pattern), 1))\n",
    "    x = x / float(vocab_len)\n",
    "    prediction = model.predict(x, verbose=0)\n",
    "    index = numpy.argmax(prediction)\n",
    "    result = num_to_char[index]\n",
    "    seq_in = [num_to_char[value] for value in pattern]\n",
    "\n",
    "    sys.stdout.write(result)\n",
    "\n",
    "    pattern.append(index)\n",
    "    pattern = pattern[1:len(pattern)]"
   ]
  }
 ],
 "metadata": {
  "kernelspec": {
   "display_name": "Python 3",
   "language": "python",
   "name": "python3"
  },
  "language_info": {
   "codemirror_mode": {
    "name": "ipython",
    "version": 3
   },
   "file_extension": ".py",
   "mimetype": "text/x-python",
   "name": "python",
   "nbconvert_exporter": "python",
   "pygments_lexer": "ipython3",
   "version": "3.6.5"
  }
 },
 "nbformat": 4,
 "nbformat_minor": 2
}
